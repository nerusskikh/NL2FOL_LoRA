{
 "cells": [
  {
   "cell_type": "code",
   "execution_count": 1,
   "id": "be46b8d518005b66",
   "metadata": {
    "ExecuteTime": {
     "end_time": "2024-06-03T13:12:51.617522Z",
     "start_time": "2024-06-03T13:12:50.835346Z"
    },
    "collapsed": false,
    "jupyter": {
     "outputs_hidden": false
    }
   },
   "outputs": [],
   "source": [
    "import glob\n",
    "import hashlib \n",
    "import os\n",
    "import re\n",
    "import Levenshtein\n",
    "import matplotlib.pyplot as plt\n",
    "import json\n",
    "\n",
    "from datasets import load_dataset\n",
    "from tqdm.auto import tqdm\n",
    "from collections import Counter, defaultdict\n",
    "\n",
    "from utils import read_file, split_sample"
   ]
  },
  {
   "cell_type": "code",
   "execution_count": 2,
   "id": "7593772a-0afc-4e0b-8c5b-a207d9b6794b",
   "metadata": {
    "ExecuteTime": {
     "end_time": "2024-06-03T13:12:51.618557Z",
     "start_time": "2024-06-03T13:12:51.616483Z"
    }
   },
   "outputs": [],
   "source": [
    "DATA_FOLDER = 'data/codellama_samples_train_optuna'\n",
    "MODEL = 'llama3-instruct'\n",
    "OUTPUT_PATH = 'data/llama3-instruct_train_dpo.json'"
   ]
  },
  {
   "cell_type": "code",
   "execution_count": 4,
   "id": "72032ecd-6b90-4ad5-92d1-7d2f2959ea0f",
   "metadata": {
    "ExecuteTime": {
     "end_time": "2024-06-03T13:12:51.631099Z",
     "start_time": "2024-06-03T13:12:51.623571Z"
    }
   },
   "outputs": [],
   "source": [
    "filepaths = glob.glob(os.path.join(DATA_FOLDER, '*.txt'))"
   ]
  },
  {
   "cell_type": "code",
   "execution_count": 5,
   "id": "fbf906ac-57ca-4df8-92e6-fa8a26560430",
   "metadata": {
    "ExecuteTime": {
     "end_time": "2024-06-03T13:12:51.635040Z",
     "start_time": "2024-06-03T13:12:51.632990Z"
    }
   },
   "outputs": [
    {
     "data": {
      "text/plain": [
       "4192"
      ]
     },
     "execution_count": 5,
     "metadata": {},
     "output_type": "execute_result"
    }
   ],
   "source": [
    "len(filepaths)"
   ]
  },
  {
   "cell_type": "code",
   "execution_count": 6,
   "id": "f38cbcc2-68b4-4c8a-b531-9c32db52fed6",
   "metadata": {
    "ExecuteTime": {
     "end_time": "2024-06-03T13:12:51.734534Z",
     "start_time": "2024-06-03T13:12:51.637103Z"
    }
   },
   "outputs": [
    {
     "data": {
      "application/vnd.jupyter.widget-view+json": {
       "model_id": "fff6f9463f9141798393164a11a4145c",
       "version_major": 2,
       "version_minor": 0
      },
      "text/plain": [
       "  0%|          | 0/4192 [00:00<?, ?it/s]"
      ]
     },
     "metadata": {},
     "output_type": "display_data"
    }
   ],
   "source": [
    "# Function to compute hash of file contents\n",
    "def file_hash(filepath):\n",
    "    with open(filepath, 'rb') as f:\n",
    "        file_content = f.read()\n",
    "    return hashlib.sha256(file_content).hexdigest()\n",
    "\n",
    "# Dictionary to keep track of hashes and their corresponding files\n",
    "hashes = {}\n",
    "\n",
    "# List to store paths of duplicate files\n",
    "duplicates = []\n",
    "\n",
    "# Iterate over files in the directory\n",
    "for filepath in tqdm(filepaths):\n",
    "    if os.path.isfile(filepath):  # Ensure it's a file\n",
    "        current_hash = file_hash(filepath)\n",
    "        if current_hash in hashes:\n",
    "            # Hash is a duplicate, add file to duplicates list\n",
    "            duplicates.append(filepath)\n",
    "        else:\n",
    "            # Hash is unique, add it to the dictionary\n",
    "            hashes[current_hash] = filepath"
   ]
  },
  {
   "cell_type": "code",
   "execution_count": 7,
   "id": "b63049bc-7b3f-494f-add2-741c98ec8f10",
   "metadata": {
    "ExecuteTime": {
     "end_time": "2024-06-03T13:12:51.739633Z",
     "start_time": "2024-06-03T13:12:51.736032Z"
    }
   },
   "outputs": [
    {
     "data": {
      "text/plain": [
       "722"
      ]
     },
     "execution_count": 7,
     "metadata": {},
     "output_type": "execute_result"
    }
   ],
   "source": [
    "len(duplicates)"
   ]
  },
  {
   "cell_type": "code",
   "execution_count": 8,
   "id": "9da9c055-1f41-41f3-8e95-356b841c4377",
   "metadata": {
    "ExecuteTime": {
     "end_time": "2024-06-03T13:12:51.743956Z",
     "start_time": "2024-06-03T13:12:51.740593Z"
    }
   },
   "outputs": [],
   "source": [
    "filepaths = list(hashes.values())"
   ]
  },
  {
   "cell_type": "code",
   "execution_count": 9,
   "id": "0a324010-b81e-43fa-8b92-d3b71dd375cc",
   "metadata": {
    "ExecuteTime": {
     "end_time": "2024-06-03T13:12:51.758548Z",
     "start_time": "2024-06-03T13:12:51.745563Z"
    }
   },
   "outputs": [],
   "source": [
    "files_by_id = {}\n",
    "\n",
    "def parse_example_id(filename):\n",
    "    match = re.search(r'example_id_(\\d+)', filename)\n",
    "    return match.group(1) if match else None\n",
    "\n",
    "\n",
    "\n",
    "# Group files by their example_id\n",
    "for filepath in filepaths:\n",
    "    if os.path.isfile(filepath):\n",
    "        example_id = parse_example_id(filepath)\n",
    "        if example_id:\n",
    "            if example_id not in files_by_id:\n",
    "                files_by_id[example_id] = []\n",
    "            files_by_id[example_id].append(filepath)"
   ]
  },
  {
   "cell_type": "code",
   "execution_count": 10,
   "id": "1be2b463-32d0-4ad6-b7c4-151068717eb9",
   "metadata": {
    "ExecuteTime": {
     "end_time": "2024-06-03T13:12:52.016778Z",
     "start_time": "2024-06-03T13:12:51.762115Z"
    }
   },
   "outputs": [],
   "source": [
    "def calculate_distances(filepaths):\n",
    "    distances = []\n",
    "    contents = {filepath: read_file(filepath) for filepath in filepaths}\n",
    "    for filepath1, content1 in contents.items():\n",
    "        for filepath2, content2 in contents.items():\n",
    "            if filepath1 < filepath2:  # Ensure each pair is only calculated once\n",
    "                distance = Levenshtein.distance(content1, content2)\n",
    "                distances.append(distance)\n",
    "    return distances\n",
    "\n",
    "# Collect all distances\n",
    "all_distances = defaultdict(list)\n",
    "\n",
    "for example_id, filepaths in files_by_id.items():\n",
    "    distances = calculate_distances(filepaths)\n",
    "    all_distances[example_id].extend(distances)\n"
   ]
  },
  {
   "cell_type": "code",
   "execution_count": 11,
   "id": "1fb3034b-83d4-4e23-aa3d-958eae06c84e",
   "metadata": {
    "ExecuteTime": {
     "end_time": "2024-06-03T13:12:52.025314Z",
     "start_time": "2024-06-03T13:12:52.021425Z"
    }
   },
   "outputs": [],
   "source": [
    "all_distances_list = sum([all_distances[x] for x in all_distances], [])"
   ]
  },
  {
   "cell_type": "code",
   "execution_count": 12,
   "id": "9904a2d7-a0af-42cb-a86f-7b855a15561f",
   "metadata": {
    "ExecuteTime": {
     "end_time": "2024-06-03T13:12:52.191374Z",
     "start_time": "2024-06-03T13:12:52.024807Z"
    }
   },
   "outputs": [
    {
     "data": {
      "image/png": "[encoded data removed]",
      "text/plain": [
       "<Figure size 640x480 with 1 Axes>"
      ]
     },
     "metadata": {},
     "output_type": "display_data"
    }
   ],
   "source": [
    "plt.hist(all_distances_list, bins=100);"
   ]
  },
  {
   "cell_type": "code",
   "execution_count": 13,
   "id": "eef2966f-f3c4-4191-95c5-fc5c77da50d0",
   "metadata": {
    "ExecuteTime": {
     "end_time": "2024-06-03T13:12:52.206652Z",
     "start_time": "2024-06-03T13:12:52.190095Z"
    }
   },
   "outputs": [],
   "source": [
    "def extract_text_entries(model_output):\n",
    "    \"\"\"Extract textual responses from the provided model output.\"\"\"\n",
    "    # Remove content within <EXAMPLE> tags\n",
    "    cleaned_output = re.sub(r'<EXAMPLE>.*?</EXAMPLE>', '', model_output, flags=re.DOTALL)\n",
    "    \n",
    "    evaluate_content = re.findall(r'(?<=<EVALUATE>)(.*?)(?=</EVALUATE>)', cleaned_output, re.DOTALL)\n",
    "    model_responses = [re.findall(r'TEXT: (.*?)\\nFOL:', content) for content in evaluate_content]\n",
    "    # flatten the list of lists and strip spaces\n",
    "    return [response.strip() for responses in model_responses for response in responses]\n",
    "\n",
    "def compute_levenshtein_distances(data_sample, model_output):\n",
    "    \"\"\"Compute the Levenshtein distances between sample premises/conclusions and model TEXT entries.\"\"\"\n",
    "    # Extract premises and conclusion from the data sample\n",
    "    sample_premises = data_sample['premises'].split('\\n')\n",
    "    sample_conclusion = data_sample['conclusion']\n",
    "\n",
    "    # Extract TEXT entries from model output\n",
    "    model_text_entries = extract_text_entries(model_output)\n",
    "\n",
    "    # Assuming that the number of TEXT entries matches the number of premises + 1 conclusion\n",
    "    if len(model_text_entries) != len(sample_premises) + 1:\n",
    "        raise ValueError(\"The number of TEXT entries in the model output does not match the number of premises and conclusion.\")\n",
    "\n",
    "    # Compute Levenshtein distances\n",
    "    distances = []\n",
    "    for i, premise in enumerate(sample_premises):\n",
    "        distances.append(Levenshtein.distance(premise, model_text_entries[i]))\n",
    "\n",
    "    # Compute distance for the conclusion\n",
    "    distances.append(Levenshtein.distance(sample_conclusion, model_text_entries[-1]))\n",
    "\n",
    "    return distances"
   ]
  },
  {
   "cell_type": "code",
   "execution_count": 14,
   "id": "7c67fd2f-807c-4e6e-8aa9-5c5b5715bbfa",
   "metadata": {
    "ExecuteTime": {
     "end_time": "2024-06-03T13:12:56.049696Z",
     "start_time": "2024-06-03T13:12:52.197670Z"
    }
   },
   "outputs": [
    {
     "name": "stderr",
     "output_type": "stream",
     "text": [
      "/opt/conda/lib/python3.10/site-packages/datasets/load.py:2516: FutureWarning: 'use_auth_token' was deprecated in favor of 'token' in version 2.14.0 and will be removed in 3.0.0.\n",
      "You can remove this warning by passing 'token=<use_auth_token>' instead.\n",
      "  warnings.warn(\n"
     ]
    }
   ],
   "source": [
    "dataset = load_dataset('yale-nlp/FOLIO',split='train', use_auth_token=True)"
   ]
  },
  {
   "cell_type": "code",
   "execution_count": 15,
   "id": "d5ce7ae2-d568-4923-9ca3-4871f902fae1",
   "metadata": {
    "ExecuteTime": {
     "end_time": "2024-06-03T13:12:56.262256Z",
     "start_time": "2024-06-03T13:12:56.054480Z"
    }
   },
   "outputs": [
    {
     "data": {
      "application/vnd.jupyter.widget-view+json": {
       "model_id": "55ef0b7ff1314eafad1c836f85f4f27f",
       "version_major": 2,
       "version_minor": 0
      },
      "text/plain": [
       "  0%|          | 0/1001 [00:00<?, ?it/s]"
      ]
     },
     "metadata": {},
     "output_type": "display_data"
    }
   ],
   "source": [
    "retyping_incorrect = defaultdict(list)\n",
    "error_samples = defaultdict(list)\n",
    "for sample in tqdm(dataset):\n",
    "    example_id = str(sample['example_id'])\n",
    "    fp_list = files_by_id.get(example_id)\n",
    "    if fp_list is not None:\n",
    "        for fp in fp_list:\n",
    "            try:\n",
    "                sample_distances = compute_levenshtein_distances(sample, read_file(fp))\n",
    "                if any([x>1 for x in sample_distances]):\n",
    "                    retyping_incorrect[example_id].append(fp)\n",
    "            except ValueError as ve:\n",
    "                if str(ve) == \"The number of TEXT entries in the model output does not match the number of premises and conclusion.\":\n",
    "                    retyping_incorrect[example_id].append(fp)\n",
    "                else:\n",
    "                    raise\n",
    "                "
   ]
  },
  {
   "cell_type": "code",
   "execution_count": 16,
   "id": "c1626d53fbef8160",
   "metadata": {
    "ExecuteTime": {
     "end_time": "2024-06-03T13:12:56.266317Z",
     "start_time": "2024-06-03T13:12:56.263470Z"
    },
    "collapsed": false,
    "jupyter": {
     "outputs_hidden": false
    }
   },
   "outputs": [
    {
     "data": {
      "text/plain": [
       "92"
      ]
     },
     "execution_count": 16,
     "metadata": {},
     "output_type": "execute_result"
    }
   ],
   "source": [
    "sum([len(x) for x in retyping_incorrect.values()])"
   ]
  },
  {
   "cell_type": "code",
   "execution_count": 17,
   "id": "04fa7140-6950-4114-ac4f-42b6f540a207",
   "metadata": {
    "ExecuteTime": {
     "end_time": "2024-06-03T13:12:56.270222Z",
     "start_time": "2024-06-03T13:12:56.267418Z"
    }
   },
   "outputs": [],
   "source": [
    "def parse_gt_pred(filename):\n",
    "    \"\"\"\n",
    "    Parses the filename to extract ground truth and prediction values.\n",
    "    Filename pattern expected: *_gt_{value}_pred_{value}.*\n",
    "    Returns a tuple (gt, pred) or (None, None) if the pattern is not found.\n",
    "    \"\"\"\n",
    "    pattern = re.compile(r'_gt_(?P<gt>\\w+)_pred_(?P<pred>\\w+)\\.')\n",
    "    match = pattern.search(filename)\n",
    "    if match:\n",
    "        return match.group('gt'), match.group('pred')\n",
    "    return None, None\n",
    "\n",
    "def get_gt_pred_pairs(file_dict):\n",
    "    \"\"\"\n",
    "    Takes a dictionary with example_ids as keys and lists of filepaths as values.\n",
    "    Returns a dictionary with example_ids as keys and lists of (gt, pred) pairs as values.\n",
    "    \"\"\"\n",
    "    gt_pred_pairs = defaultdict(list)\n",
    "    for example_id, filepaths in file_dict.items():\n",
    "        for filepath in filepaths:\n",
    "            gt, pred = parse_gt_pred(filepath)\n",
    "            if gt and pred:\n",
    "                gt_pred_pairs[example_id].append((gt, pred))\n",
    "    return gt_pred_pairs"
   ]
  },
  {
   "cell_type": "code",
   "execution_count": 18,
   "id": "eced8cad-d1f4-47f7-a3f9-dd186332baa4",
   "metadata": {
    "ExecuteTime": {
     "end_time": "2024-06-03T13:12:56.273875Z",
     "start_time": "2024-06-03T13:12:56.272275Z"
    }
   },
   "outputs": [],
   "source": [
    "def is_duplicate_within_bin(file_content, bin_contents, threshold=20):\n",
    "    for existing_content in bin_contents:\n",
    "        if Levenshtein.distance(file_content, existing_content) < threshold:\n",
    "            return True\n",
    "    return False\n",
    "\n",
    "def sort_samples(dataset, files_by_id):\n",
    "    sorted_samples = defaultdict(lambda: ([], []))\n",
    "\n",
    "    for sample in tqdm(dataset):\n",
    "        example_id = str(sample['example_id'])\n",
    "        correct_bin_contents = []\n",
    "        incorrect_bin_contents = []\n",
    "\n",
    "        filepaths = files_by_id.get(example_id)\n",
    "        if filepaths is None:\n",
    "            filepaths = []\n",
    "        for fp in filepaths:\n",
    "            try:\n",
    "                # Extract ground truth and prediction from filename\n",
    "                gt, pred = parse_gt_pred(fp)\n",
    "\n",
    "                # Compute Levenshtein distances for the sample\n",
    "                sample_distances = compute_levenshtein_distances(sample, read_file(fp))\n",
    "\n",
    "                # Check if all Levenshtein distances are <= 3 and if gt == pred\n",
    "                if all(x <= 3 for x in sample_distances) and gt == pred:\n",
    "                    # Check for fuzzy duplicates within the correct bin\n",
    "                    file_content = read_file(fp)\n",
    "                    if not is_duplicate_within_bin(file_content, correct_bin_contents):\n",
    "                        sorted_samples[example_id][0].append(fp)  # Add to correct ones\n",
    "                        correct_bin_contents.append(file_content)\n",
    "                else:\n",
    "                    # Check for fuzzy duplicates within the incorrect bin\n",
    "                    file_content = read_file(fp)\n",
    "                    if not is_duplicate_within_bin(file_content, incorrect_bin_contents):\n",
    "                        sorted_samples[example_id][1].append(fp)  # Add to incorrect ones\n",
    "                        incorrect_bin_contents.append(file_content)\n",
    "\n",
    "            except ValueError as e:\n",
    "                # If there is an error, add to incorrect ones\n",
    "                sorted_samples[example_id][1].append(fp)\n",
    "\n",
    "    return sorted_samples\n",
    "\n"
   ]
  },
  {
   "cell_type": "code",
   "execution_count": 19,
   "id": "fb993528-85c0-4fbe-b855-eba120cc47c5",
   "metadata": {
    "ExecuteTime": {
     "end_time": "2024-06-03T13:12:56.633487Z",
     "start_time": "2024-06-03T13:12:56.275397Z"
    }
   },
   "outputs": [
    {
     "data": {
      "application/vnd.jupyter.widget-view+json": {
       "model_id": "5b92d7d4c7e743fabe57128eb19ac626",
       "version_major": 2,
       "version_minor": 0
      },
      "text/plain": [
       "  0%|          | 0/1001 [00:00<?, ?it/s]"
      ]
     },
     "metadata": {},
     "output_type": "display_data"
    }
   ],
   "source": [
    "result = sort_samples(dataset, files_by_id)"
   ]
  },
  {
   "cell_type": "code",
   "execution_count": 20,
   "id": "3f143148-36a7-4767-88fc-b9eae0493b7f",
   "metadata": {
    "ExecuteTime": {
     "end_time": "2024-06-03T13:12:56.637916Z",
     "start_time": "2024-06-03T13:12:56.634209Z"
    }
   },
   "outputs": [
    {
     "data": {
      "text/plain": [
       "2292"
      ]
     },
     "execution_count": 20,
     "metadata": {},
     "output_type": "execute_result"
    }
   ],
   "source": [
    "# Total number of chosen/rejected pairs acquired\n",
    "sum([len(correct)*len(incorrect) for correct, incorrect in result.values()])"
   ]
  },
  {
   "cell_type": "code",
   "execution_count": 21,
   "id": "4700e717-674e-479b-ba19-b37234dd6141",
   "metadata": {
    "ExecuteTime": {
     "end_time": "2024-06-03T13:12:56.639521Z",
     "start_time": "2024-06-03T13:12:56.637678Z"
    }
   },
   "outputs": [
    {
     "data": {
      "text/plain": [
       "279"
      ]
     },
     "execution_count": 21,
     "metadata": {},
     "output_type": "execute_result"
    }
   ],
   "source": [
    "# number of samples for which there is no pairs\n",
    "sum([len(correct)*len(incorrect) == 0 for correct, incorrect in result.values()])"
   ]
  },
  {
   "cell_type": "code",
   "execution_count": 22,
   "id": "502a93d6-99b2-4721-a213-048ad3f3fbd6",
   "metadata": {
    "ExecuteTime": {
     "end_time": "2024-06-03T13:12:56.643183Z",
     "start_time": "2024-06-03T13:12:56.640513Z"
    }
   },
   "outputs": [
    {
     "data": {
      "text/plain": [
       "12"
      ]
     },
     "execution_count": 22,
     "metadata": {},
     "output_type": "execute_result"
    }
   ],
   "source": [
    "sum([len(correct) == 0 for correct, incorrect in result.values()])"
   ]
  },
  {
   "cell_type": "code",
   "execution_count": 23,
   "id": "3bbb3dcc3742a1b2",
   "metadata": {
    "ExecuteTime": {
     "end_time": "2024-06-03T13:13:58.237479Z",
     "start_time": "2024-06-03T13:13:58.162196Z"
    },
    "collapsed": false,
    "jupyter": {
     "outputs_hidden": false
    }
   },
   "outputs": [
    {
     "data": {
      "text/plain": [
       "(array([ 12.,  71.,  81.,  58.,  71.,  72.,  53., 106.]),\n",
       " array([0., 1., 2., 3., 4., 5., 6., 7., 8.]),\n",
       " <BarContainer object of 8 artists>)"
      ]
     },
     "execution_count": 23,
     "metadata": {},
     "output_type": "execute_result"
    },
    {
     "data": {
      "image/png": "[encoded data removed]",
      "text/plain": [
       "<Figure size 640x480 with 1 Axes>"
      ]
     },
     "metadata": {},
     "output_type": "display_data"
    }
   ],
   "source": [
    "plt.hist([len(correct) for correct, incorrect in result.values()], bins=8)"
   ]
  },
  {
   "cell_type": "code",
   "execution_count": 24,
   "id": "8257ba0b72acecca",
   "metadata": {
    "ExecuteTime": {
     "end_time": "2024-06-03T13:13:33.773112Z",
     "start_time": "2024-06-03T13:13:33.680890Z"
    },
    "collapsed": false,
    "jupyter": {
     "outputs_hidden": false
    }
   },
   "outputs": [],
   "source": [
    "DPO_samples = []\n",
    "for sample in dataset:\n",
    "    example_id = str(sample['example_id'])\n",
    "    corrects, incorrects = result[example_id]\n",
    "    pair_count = 0\n",
    "    for correct_fp  in corrects:\n",
    "        for incorrect_fp in incorrects:\n",
    "            correct_text = read_file(correct_fp)\n",
    "            incorrect_text = read_file(incorrect_fp)\n",
    "            correct_prompt, chosen = split_sample(correct_text, MODEL)\n",
    "            incorrect_prompt, rejected = split_sample(incorrect_text, MODEL)\n",
    "            assert correct_prompt == correct_prompt\n",
    "            \n",
    "            dpo_sample = {\n",
    "                'prompt': correct_prompt, \n",
    "                'chosen': chosen,\n",
    "                'rejected': rejected,\n",
    "                'example_id': f'{example_id}_{pair_count}',\n",
    "                'label':sample['label']\n",
    "                \n",
    "            }\n",
    "            DPO_samples.append(dpo_sample)\n",
    "            \n",
    "            \n",
    "    "
   ]
  },
  {
   "cell_type": "code",
   "execution_count": 25,
   "id": "692e08007a4c4409",
   "metadata": {
    "ExecuteTime": {
     "end_time": "2024-06-03T13:13:34.844924Z",
     "start_time": "2024-06-03T13:13:34.806873Z"
    },
    "collapsed": false,
    "jupyter": {
     "outputs_hidden": false
    }
   },
   "outputs": [],
   "source": [
    "with open(OUTPUT_PATH, 'w') as f:\n",
    "    json.dump(DPO_samples,f)"
   ]
  },
  {
   "cell_type": "code",
   "execution_count": null,
   "id": "4121478de0dce6e9",
   "metadata": {
    "ExecuteTime": {
     "start_time": "2024-06-03T13:12:56.721262Z"
    },
    "collapsed": false,
    "jupyter": {
     "outputs_hidden": false
    }
   },
   "outputs": [],
   "source": []
  }
 ],
 "metadata": {
  "kernelspec": {
   "display_name": "Python 3 (ipykernel)",
   "language": "python",
   "name": "python3"
  },
  "language_info": {
   "codemirror_mode": {
    "name": "ipython",
    "version": 3
   },
   "file_extension": ".py",
   "mimetype": "text/x-python",
   "name": "python",
   "nbconvert_exporter": "python",
   "pygments_lexer": "ipython3",
   "version": "3.10.13"
  }
 },
 "nbformat": 4,
 "nbformat_minor": 5
}
